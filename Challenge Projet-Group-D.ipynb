{
 "cells": [
  {
   "cell_type": "markdown",
   "metadata": {},
   "source": [
    "Challenge C: Multiplication Table\n",
    "Description\n",
    "Your task, is to create a function which returns a NxN multiplication table, of size N provided as a function argument.\n",
    "\n",
    "for example, when given size is 3:\n",
    "\n",
    "1 2 3\n",
    "\n",
    "2 4 6\n",
    "\n",
    "3 6 9\n",
    "\n",
    "So for the given example, the return value should be: [[1,2,3],[2,4,6],[3,6,9]]"
   ]
  },
  {
   "cell_type": "code",
   "execution_count": 2,
   "metadata": {},
   "outputs": [
    {
     "name": "stdout",
     "output_type": "stream",
     "text": [
      "Give me a number:7\n",
      "[[1, 2, 3, 4, 5, 6, 7], [2, 4, 6, 8, 10, 12, 14], [3, 6, 9, 12, 15, 18, 21], [4, 8, 12, 16, 20, 24, 28], [5, 10, 15, 20, 25, 30, 35], [6, 12, 18, 24, 30, 36, 42], [7, 14, 21, 28, 35, 42, 49]]\n"
     ]
    }
   ],
   "source": [
    "def multiplication_table(n):\n",
    "    if n > 0:\n",
    "        return [[a*i for a in range(1, n+1)] for i in range(1, n+1)]\n",
    "    elif n == 0:\n",
    "        return [0]\n",
    "    else:\n",
    "        return [[-a*i for a in range(1, -n+1)] for i in range(1, -n+1)]\n",
    "\n",
    "\n",
    "number = input('Give me a number:')\n",
    "try:\n",
    "    print(multiplication_table(int(number)))\n",
    "except ValueError:\n",
    "    print('You have to give a number. Try again.')"
   ]
  },
  {
   "cell_type": "markdown",
   "metadata": {},
   "source": [
    "BONUS"
   ]
  },
  {
   "cell_type": "code",
   "execution_count": null,
   "metadata": {},
   "outputs": [],
   "source": [
    "def pascal_triangle(n):\n",
    "    #Liste imbriquée avec des 0\n",
    "    T = [[0] * (n+1) for n in range(n+1)]\n",
    "    for n in range(n+1):\n",
    "    # Si le nombre donné est 0 alors la liste ne contient que 1\n",
    "        if n == 0:\n",
    "            T[n][0] = 1\n",
    "        else:\n",
    "            for p in range(n+1):\n",
    "            # le premier chiffre de chaque liste est égale à 1\n",
    "                if p == 0:\n",
    "                    T[n][p] = 1\n",
    "            # le dernier chiffre de chaque liste est égale à 1\n",
    "                elif p == n:\n",
    "                    T[n][p] = 1\n",
    "            # Calcul de T[n][p] qui est égal au chifre en diagonal à gauche et au-dessus\n",
    "                else:\n",
    "                    T[n][p] = T[n-1][p-1] + T[n-1][p]\n",
    "    for n in range(n+1):\n",
    "    #Affichage des listes à la suite pour créer un triangle\n",
    "        print(T[n])\n",
    "\n",
    "\n",
    "pascal_triangle(3)"
   ]
  },
  {
   "cell_type": "code",
   "execution_count": 20,
   "metadata": {},
   "outputs": [
    {
     "name": "stdout",
     "output_type": "stream",
     "text": [
      "Combien de ligne souhaitez-vous afficher ? 3\n",
      "[1]\n",
      "[1, 1]\n",
      "[1, 2, 1]\n"
     ]
    }
   ],
   "source": [
    "def pascal_triangle():\n",
    "    #je creer une liste contenant ma premiere ligne\n",
    "    ancienneliste = [1]\n",
    "\n",
    "    #je demande a l'utilisateur de me donner le nombre de ligne\n",
    "    n=int(input('Combien de ligne souhaitez-vous afficher ? '))\n",
    "    print(ancienneliste)\n",
    "    #une boucle pour obtenir n ligne qui correspond au nombre choisis\n",
    "    for j in range(n-1):\n",
    "        nouvelleliste = ancienneliste + [1] #à chaque fois je creer une nouvelle liste avec ma liste precedente et je rajoute 1\n",
    "        for i in range(len(ancienneliste)-1): #pour qu'il s'arrete un cran avant\n",
    "            #pour avoir un element de la nouvelle liste je prend un element\\\n",
    "            #de l'ancienne liste auquel je rajoute l'element suivant de la liste\n",
    "            nouvelleliste[i+1] = ancienneliste[i] + ancienneliste[i+1]\n",
    "        print(nouvelleliste)\n",
    "        #pour que le programme se poursuive \n",
    "        ancienneliste=nouvelleliste\n",
    "\n",
    "pascal_triangle()"
   ]
  }
 ],
 "metadata": {
  "kernelspec": {
   "display_name": "Python 3",
   "language": "python",
   "name": "python3"
  },
  "language_info": {
   "codemirror_mode": {
    "name": "ipython",
    "version": 3
   },
   "file_extension": ".py",
   "mimetype": "text/x-python",
   "name": "python",
   "nbconvert_exporter": "python",
   "pygments_lexer": "ipython3",
   "version": "3.9.1"
  }
 },
 "nbformat": 4,
 "nbformat_minor": 5
}
